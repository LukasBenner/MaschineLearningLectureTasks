{
 "cells": [
  {
   "cell_type": "code",
   "execution_count": 2,
   "metadata": {},
   "outputs": [],
   "source": [
    "import numpy as np"
   ]
  },
  {
   "cell_type": "code",
   "execution_count": 6,
   "metadata": {},
   "outputs": [
    {
     "name": "stdout",
     "output_type": "stream",
     "text": [
      "(3, 3, 2)\n",
      "[[[ 1  2]\n",
      "  [ 2  5]\n",
      "  [ 9  8]]\n",
      "\n",
      " [[ 6  4]\n",
      "  [10  3]\n",
      "  [ 2 10]]\n",
      "\n",
      " [[ 3  2]\n",
      "  [ 7  2]\n",
      "  [ 2  6]]]\n"
     ]
    },
    {
     "name": "stderr",
     "output_type": "stream",
     "text": [
      "/tmp/ipykernel_13710/1992790965.py:1: DeprecationWarning: This function is deprecated. Please call randint(0, 10 + 1) instead\n",
      "  x_orig = np.random.random_integers(0,10, (3,3,2))\n"
     ]
    }
   ],
   "source": [
    "x_orig = np.random.random_integers(0,10, (3,3,2))\n",
    "print(x_orig.shape)\n",
    "print(x_orig)"
   ]
  },
  {
   "cell_type": "code",
   "execution_count": 14,
   "metadata": {},
   "outputs": [
    {
     "name": "stdout",
     "output_type": "stream",
     "text": [
      "[[ 1  6  3]\n",
      " [ 2  4  2]\n",
      " [ 2 10  7]\n",
      " [ 5  3  2]\n",
      " [ 9  2  2]\n",
      " [ 8 10  6]]\n",
      "[[ 1  2  2]\n",
      " [ 5  9  8]\n",
      " [ 6  4 10]\n",
      " [ 3  2 10]\n",
      " [ 3  2  7]\n",
      " [ 2  2  6]]\n"
     ]
    }
   ],
   "source": [
    "x_flatten = x_orig.reshape(x_orig.shape[0], -1).T\n",
    "print(x_flatten)\n",
    "x_flatten2 = x_orig.reshape(x_orig.shape[1] * x_orig.shape[2], x_orig.shape[0])\n",
    "print(x_flatten2)"
   ]
  },
  {
   "cell_type": "code",
   "execution_count": null,
   "metadata": {},
   "outputs": [],
   "source": []
  }
 ],
 "metadata": {
  "kernelspec": {
   "display_name": "Python 3.10.6 ('MaschineLearningAufgaben')",
   "language": "python",
   "name": "python3"
  },
  "language_info": {
   "codemirror_mode": {
    "name": "ipython",
    "version": 3
   },
   "file_extension": ".py",
   "mimetype": "text/x-python",
   "name": "python",
   "nbconvert_exporter": "python",
   "pygments_lexer": "ipython3",
   "version": "3.10.6"
  },
  "orig_nbformat": 4,
  "vscode": {
   "interpreter": {
    "hash": "6cf7a0cdad2ec8b78c7d995b9ed81d3a150f8e64515c06b3bc9ae8021ca6cdbd"
   }
  }
 },
 "nbformat": 4,
 "nbformat_minor": 2
}
